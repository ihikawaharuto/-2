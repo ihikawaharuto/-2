{
 "cells": [
  {
   "cell_type": "code",
   "execution_count": 37,
   "id": "9df74a86",
   "metadata": {},
   "outputs": [
    {
     "name": "stderr",
     "output_type": "stream",
     "text": [
      "'\"{sys.executable}\"' �́A�����R�}���h�܂��͊O���R�}���h�A\n",
      "����\\�ȃv���O�����܂��̓o�b�` �t�@�C���Ƃ��ĔF������Ă��܂���B\n",
      "'\"{sys.executable}\"' �́A�����R�}���h�܂��͊O���R�}���h�A\n",
      "����\\�ȃv���O�����܂��̓o�b�` �t�@�C���Ƃ��ĔF������Ă��܂���B\n"
     ]
    }
   ],
   "source": [
    "!python -m venv myenv   #仮想環境を作る\n",
    "# # 仮想環境をアクティブ化\n",
    "# # Windows\n",
    "!myenv\\Scripts\\activate\n",
    "!\"{sys.executable}\" -m pip install -r requirements.txt\n",
    "!\"{sys.executable}\" -m pip install torch torchvision torchaudio --index-url https://download.pytorch.org/whl/cpu\""
   ]
  },
  {
   "cell_type": "code",
   "execution_count": 38,
   "id": "662f575e",
   "metadata": {},
   "outputs": [],
   "source": [
    "# Colab内ファイルにリストをコピーする"
   ]
  },
  {
   "cell_type": "code",
   "execution_count": 39,
   "id": "8f506e54",
   "metadata": {},
   "outputs": [],
   "source": [
    "# !streamlit run app4.py --server.address=10.202.10.251.8502"
   ]
  },
  {
   "cell_type": "code",
   "execution_count": 40,
   "id": "a17d5e96",
   "metadata": {},
   "outputs": [],
   "source": [
    "# import subprocess\n",
    "# import threading\n",
    "# import time\n",
    "# import webbrowser\n",
    "# import socket\n",
    "\n",
    "# # .ipynbファイルと同じディレクトリにあることを想定\n",
    "# streamlit_app_file = \"app5.py\"\n",
    "# # Streamlitが起動するポート（任意で変更可能）\n",
    "# port = 8503\n",
    "\n",
    "# # --- IPアドレスの自動取得 ---\n",
    "# def get_ip_address():\n",
    "#     \"\"\"ローカルIPアドレスを取得する\"\"\"\n",
    "#     try:\n",
    "#         s = socket.socket(socket.AF_INET, socket.SOCK_DGRAM)\n",
    "#         # このIPアドレスは実際に接続する必要はない\n",
    "#         s.connect((\"8.8.8.8\", 80))\n",
    "#         ip = s.getsockname()[0]\n",
    "#         s.close()\n",
    "#         return ip\n",
    "#     except Exception:\n",
    "#         # 取得できない場合はlocalhostを返す\n",
    "#         return \"localhost\"\n",
    "\n",
    "# # IPアドレスを取得し、URLを構築\n",
    "# # もし自動取得がうまくいかない場合は、ip_address = \"172.20.10.10\" のように直接指定してください。(ターミナルでcmd,ipconfig,IPv4から取得)\n",
    "# ip_address = \"172.21.32.1\"\n",
    "# streamlit_url = f\"http://{ip_address}:{port}\"\n",
    "\n",
    "# # Streamlitプロセスを起動する関数\n",
    "# def run_streamlit():\n",
    "#     print(f\"Starting Streamlit app: {streamlit_app_file} on port {port}...\")\n",
    "#     try:\n",
    "#         # subprocess.run を使用して、プロセスが終了するまでブロックします\n",
    "#         # --server.address 0.0.0.0 で外部からのアクセスを許可\n",
    "#         subprocess.run([\"streamlit\", \"run\", streamlit_app_file,\n",
    "#                         \"--server.port\", str(port),\n",
    "#                         \"--server.address\", \"0.0.0.0\",\n",
    "#                         \"--browser.gatherUsageStats\", \"false\",\n",
    "#                         \"--server.headless\", \"true\"], check=True)\n",
    "#     except subprocess.CalledProcessError as e:\n",
    "#         print(f\"Streamlit process exited with error: {e}\")\n",
    "#     except FileNotFoundError:\n",
    "#         print(\"Error: 'streamlit' command not found. Make sure Streamlit is installed and in your PATH.\")\n",
    "#     except Exception as e:\n",
    "#         print(f\"An unexpected error occurred while running Streamlit: {e}\")\n",
    "\n",
    "# # スレッドでStreamlitアプリを起動\n",
    "# streamlit_thread = threading.Thread(target=run_streamlit, daemon=True)\n",
    "# streamlit_thread.start()\n",
    "\n",
    "# # Streamlitが起動するまで少し待つ\n",
    "# print(\"Waiting for Streamlit to start...\")\n",
    "# time.sleep(5)\n",
    "\n",
    "# # WebブラウザでStreamlitアプリを開く\n",
    "# print(f\"Opening Streamlit app in browser: {streamlit_url}\")\n",
    "# webbrowser.open(streamlit_url)\n",
    "\n",
    "# print(f\"\\nStreamlitアプリは新しいブラウザタブで開かれました。\")\n",
    "# print(f\"URL: {streamlit_url}\")\n",
    "# print(\"このJupyter Notebookのカーネルを停止すると、Streamlitアプリも自動的に終了します。\")\n",
    "# print(\"手動で終了するには、Jupyterカーネルを再起動するか、VS Codeのターミナルで起動した場合はそのターミナルでCtrl+Cを押してください。\")\n",
    "\n"
   ]
  }
 ],
 "metadata": {
  "kernelspec": {
   "display_name": "base",
   "language": "python",
   "name": "python3"
  },
  "language_info": {
   "codemirror_mode": {
    "name": "ipython",
    "version": 3
   },
   "file_extension": ".py",
   "mimetype": "text/x-python",
   "name": "python",
   "nbconvert_exporter": "python",
   "pygments_lexer": "ipython3",
   "version": "3.12.3"
  }
 },
 "nbformat": 4,
 "nbformat_minor": 5
}
